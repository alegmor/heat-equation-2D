{
 "cells": [
  {
   "cell_type": "markdown",
   "metadata": {},
   "source": [
    "### Flujo de calor bidimensional en estado estacionario"
   ]
  },
  {
   "cell_type": "code",
   "execution_count": 1,
   "metadata": {},
   "outputs": [],
   "source": [
    "import numpy as np\n",
    "import pandas as pd\n",
    "import matplotlib.pyplot as plt\n",
    "\n",
    "%config Completer.use_jedi = False\n",
    "\n",
    "sin,cos,sinh,cosh,pi  = np.sin,np.cos,np.sinh,np.cosh,np.pi\n"
   ]
  },
  {
   "cell_type": "markdown",
   "metadata": {},
   "source": [
    "En condiciones de estado estable en dos dimensiones, sin generación y con una conductividad térmica constante, la ecuación de calor es\n",
    "\n",
    "$$ \\frac{\\partial^2 \\theta}{\\partial x^2} + \\frac{\\partial^2 \\theta}{\\partial y^2} = 0. (1)$$\n",
    "\n",
    "La ecuación anterior es de segundo orden en $x$ y $y$, se necesitan dos condiciones de frontera para cada coordenada, estas son\n",
    "\n",
    "$$\\theta(0,y)=0, \\qquad \\theta(x,0)=0 (2)$$\n",
    "\n",
    "$$\\theta(L,y)=0,\\qquad \\theta(x,W)=1 (3)$$\n",
    "\n",
    "\n",
    "La solución de la ecuación (1) es\n",
    "\n",
    "$$\\theta(x,y) = \\dfrac{2}{\\pi} \\sum_{n=1}^{\\infty} \\dfrac{(-1)^{n+1}+1}{n} \\sin \\dfrac{n \\pi x}{L} \\dfrac{\\sinh(n \\pi y/L)}{\\sinh(n\\pi W/L)} (4)$$\n",
    "\n",
    "con $L=100$ y $W=100$."
   ]
  },
  {
   "cell_type": "code",
   "execution_count": 2,
   "metadata": {},
   "outputs": [],
   "source": [
    "#defino la distribución de temperaturas\n",
    "def T(x,y,L,W,N):\n",
    "    T = x*0\n",
    "    for n in range(1,N):        \n",
    "        C   = ((-1)**(n+1))+1\n",
    "        sn  = sin((n*pi*x)/L)\n",
    "        snh = sinh((n*pi*y)/L)/sinh((n*pi*W)/L)\n",
    "        T  += (2/pi)*sn*(C/n)*snh\n",
    "    return T    "
   ]
  },
  {
   "cell_type": "code",
   "execution_count": null,
   "metadata": {},
   "outputs": [],
   "source": [
    "L = 100\n",
    "W = 100\n",
    "x = np.linspace(0,L, 100)\n",
    "y = np.linspace(0,W, 100)\n",
    "N = 100\n",
    "\n",
    "X, Y = np.meshgrid(x, y)\n",
    "Z    = T(X,Y,L,W,N)\n",
    "\n",
    "contours = plt.contour(X, Y, Z,levels= 13, colors='black')\n",
    "plt.clabel(contours, inline=True, fontsize=10)\n",
    "\n",
    "plt.imshow(Z, extent=[0, L, 0, W], origin='lower',\n",
    "           cmap='hot', alpha=0.5)\n",
    "\n",
    "plt.xlabel(\"$L$\")\n",
    "plt.ylabel(\"$W$\")\n",
    "plt.colorbar()\n",
    "plt.savefig('heq-isotherms.png')"
   ]
  },
  {
   "cell_type": "code",
   "execution_count": null,
   "metadata": {},
   "outputs": [],
   "source": [
    "N = 100\n",
    "x = np.linspace(0,L,50)\n",
    "y = np.linspace(0,W,50)\n",
    "X, Y = np.meshgrid(x, y)\n",
    "Z  = T(X,Y,W,L,N)\n",
    "fig = plt.figure()\n",
    "ax = plt.axes(projection='3d')\n",
    "ax.set_xlabel(\"$L$\")\n",
    "ax.set_ylabel(\"$W$\")\n",
    "ax.set_zlabel(\"$T$\")\n",
    "ax.plot_surface(X,Y,Z,cmap='viridis', edgecolor='none')\n",
    "plt.show()"
   ]
  },
  {
   "cell_type": "markdown",
   "metadata": {},
   "source": [
    "Las componentes del flujo de calor por unidad de área $\\mathbf{q}$ se determina a partir de la ecuación (4) con la Ley de Fourier\n",
    "\n",
    "\n",
    "$$ \\mathbf{q} = -k \\nabla T = -k \\left(\\dfrac{\\partial \\theta}{\\partial x} + \\dfrac{\\partial \\theta}{\\partial y} \\right)(5)$$ \n",
    "\n",
    "with $k=0.1$"
   ]
  },
  {
   "cell_type": "code",
   "execution_count": null,
   "metadata": {
    "code_folding": []
   },
   "outputs": [],
   "source": [
    "#defino el flujo de calor\n",
    "def Q(x,y,W,L,N):\n",
    "    q = x*0\n",
    "    k = -0.1\n",
    "    for n in range(1,N):\n",
    "       #aquí se debe definir el resultado de la ecuación (5)\n",
    "        return q   "
   ]
  },
  {
   "cell_type": "code",
   "execution_count": null,
   "metadata": {},
   "outputs": [],
   "source": [
    "#Aquí deben de agregar sus valores\n",
    "\n",
    "L = \n",
    "W = \n",
    "N = \n",
    "x = \n",
    "y = \n",
    "\n",
    "X, Y = np.meshgrid(x, y)\n",
    "Z  = T(X,Y,W,L,N)\n",
    "Zq = Q(X,Y,W,L,N)\n",
    "\n",
    "fig,ax = plt.subplots() \n",
    "ax.contour(X, Y, Z, 10, colors='black') #grafica las isotermas y muestra 10 de ellas\n",
    "ax.contour(X, Y, Zq,10, colors='black') #grafica las líneas de flujo y muestra 10 de ellas\n",
    "plt.clabel(contours, inline=True, fontsize=8)\n",
    "\n",
    "plt.imshow(Z, extent=[0, L, 0, W], origin='lower',\n",
    "           cmap='hot', alpha=0.5) #agrega el campo de temperaturas debajo de las líneas de contorno\n",
    "\n",
    "plt.xlabel(\"$L$\")\n",
    "plt.ylabel(\"$W$\")\n",
    "plt.colorbar()\n",
    "plt.show()"
   ]
  }
 ],
 "metadata": {
  "kernelspec": {
   "display_name": "Python 3",
   "language": "python",
   "name": "python3"
  },
  "language_info": {
   "codemirror_mode": {
    "name": "ipython",
    "version": 3
   },
   "file_extension": ".py",
   "mimetype": "text/x-python",
   "name": "python",
   "nbconvert_exporter": "python",
   "pygments_lexer": "ipython3",
   "version": "3.6.13"
  },
  "latex_envs": {
   "LaTeX_envs_menu_present": true,
   "autoclose": true,
   "autocomplete": true,
   "bibliofile": "biblio.bib",
   "cite_by": "apalike",
   "current_citInitial": 1,
   "eqLabelWithNumbers": true,
   "eqNumInitial": 1,
   "hotkeys": {
    "equation": "Ctrl-E",
    "itemize": "Ctrl-I"
   },
   "labels_anchors": false,
   "latex_user_defs": false,
   "report_style_numbering": false,
   "user_envs_cfg": false
  }
 },
 "nbformat": 4,
 "nbformat_minor": 2
}
